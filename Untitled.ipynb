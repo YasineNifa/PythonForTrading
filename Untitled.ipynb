{
 "cells": [
  {
   "cell_type": "markdown",
   "metadata": {},
   "source": [
    "## Algorithmic Trading Basic\n",
    "- Signifie l'utilisation d'un programme afin de prendre des décisions d'investissement\n",
    "- Il existe plusieur algorithme de trading. La différence entre ces algorithmes est dans la vitesse d'execution\n",
    "- Python is the most programming language used for trading algorithms\n",
    "- However Python is slow, this means it is often used as a glue language to trigger code that run in other language\n",
    "- Numpy is the most library used in trading algorithm\n",
    "- Numpy est une bibliothèque de calcul numérique. il facilitel'utilisation de 1 ou 2 dimentional data structure\n",
    "- The process of running a quantitative investing strategy :\n",
    "    - Collect data\n",
    "    - Develop a hypothesis for a strategy\n",
    "    - Backtest the strategy\n",
    "    - Implement the strategy in production\n",
    "- API : Application Programming Interface : is a way for your software to interacte or control someone else software\n",
    "- In this project we will be using get command to gather data from IEX Cloud API\n",
    "- POST : Adds data to the database exposed by the API (create only)\n",
    "- PUT : adds and overwrite data in the database exposed by the API (create and update)\n",
    "- Delete : dalete data from the API's dataset\n"
   ]
  }
 ],
 "metadata": {
  "kernelspec": {
   "display_name": "Python 3",
   "language": "python",
   "name": "python3"
  },
  "language_info": {
   "codemirror_mode": {
    "name": "ipython",
    "version": 3
   },
   "file_extension": ".py",
   "mimetype": "text/x-python",
   "name": "python",
   "nbconvert_exporter": "python",
   "pygments_lexer": "ipython3",
   "version": "3.6.9"
  }
 },
 "nbformat": 4,
 "nbformat_minor": 2
}
